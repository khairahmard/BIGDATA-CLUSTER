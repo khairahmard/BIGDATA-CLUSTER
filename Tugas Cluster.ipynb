{
 "cells": [
  {
   "cell_type": "code",
   "execution_count": 1,
   "metadata": {},
   "outputs": [],
   "source": [
    "import findspark\n",
    "findspark.init()\n",
    "\n",
    "from pyspark.sql import SparkSession\n",
    "spark = SparkSession \\\n",
    "    .builder \\\n",
    "    .appName(\"Python Spark Clustering\") \\\n",
    "    .getOrCreate()"
   ]
  },
  {
   "cell_type": "markdown",
   "metadata": {},
   "source": [
    "## 1. Import Data dan Query"
   ]
  },
  {
   "cell_type": "code",
   "execution_count": 2,
   "metadata": {},
   "outputs": [],
   "source": [
    "df = spark.read.csv(\"D:/Spark/tugas cluster/driver-license-permit-and-non-driver-identification-cards-issued-as-of-august-30-2017.csv\", header=True, inferSchema=True)"
   ]
  },
  {
   "cell_type": "code",
   "execution_count": 3,
   "metadata": {},
   "outputs": [
    {
     "data": {
      "text/plain": [
       "StructType(List(StructField(Year of Birth,IntegerType,true),StructField(Sex,StringType,true),StructField(City,StringType,true),StructField(State,StringType,true),StructField(Zip,StringType,true),StructField(Residence County,StringType,true),StructField(License Class,StringType,true),StructField(Status,StringType,true),StructField(Privilege,StringType,true),StructField(Year of Expiration,IntegerType,true)))"
      ]
     },
     "execution_count": 3,
     "metadata": {},
     "output_type": "execute_result"
    }
   ],
   "source": [
    "df.schema"
   ]
  },
  {
   "cell_type": "code",
   "execution_count": 4,
   "metadata": {},
   "outputs": [
    {
     "name": "stdout",
     "output_type": "stream",
     "text": [
      "+-------------+---+---------------+-----+-----+----------------+-------------+---------+---------+------------------+\n",
      "|Year of Birth|Sex|           City|State|  Zip|Residence County|License Class|   Status|Privilege|Year of Expiration|\n",
      "+-------------+---+---------------+-----+-----+----------------+-------------+---------+---------+------------------+\n",
      "|         1950|  F|       GLENMONT|   NY|12077|          ALBANY|            D|    VALID|     FULL|              2020|\n",
      "|         1977|  F| WEST HEMPSTEAD|   NY|11552|          NASSAU|            D|    VALID|     FULL|              2019|\n",
      "|         1967|  M|      SMITHTOWN|   NY|11787|         SUFFOLK|            D|    VALID|     FULL|              2019|\n",
      "|         1989|  M|       BROOKLYN|   NY|11213|           KINGS|            D|    VALID|     FULL|              2020|\n",
      "|         1994|  F|        BXVILLE|   NY|10708|     WESTCHESTER|            D|    VALID|     FULL|              2023|\n",
      "|         1960|  M|       NEW YORK|   NY|10025|        NEW YORK|            D|    VALID|     FULL|              2019|\n",
      "|         1961|  F|  MONTOUR FALLS|   NY|14865|        SCHUYLER|            D|    VALID|     FULL|              2018|\n",
      "|         1952|  F|JACKSON HEIGHTS|   NY|11372|          QUEENS|            D|    VALID|     FULL|              2025|\n",
      "|         1981|  M|       NEW YORK|   NY|10039|        NEW YORK|            I|     NONE|     NONE|              2020|\n",
      "|         1958|  F|      NORTHPORT|   NY|11768|         SUFFOLK|            D|    VALID|     FULL|              2020|\n",
      "|         1999|  F|  STATEN ISLAND|   NY|10312|        RICHMOND|            D|    VALID|     FULL|              2020|\n",
      "|         1980|  F|       SYRACUSE|   NY|13214|        ONONDAGA|            D|    VALID|     FULL|              2019|\n",
      "|         1923|  F|        WAVERLY|   NY|14892|           TIOGA|            I|     NONE|     NONE|              2019|\n",
      "|         1949|  F|  WILLIAMSVILLE|   NY|14221|            ERIE|            D|    VALID|     FULL|              2019|\n",
      "|         1974|  F|   POUGHKEEPSIE|   NY|12601|        DUTCHESS|            D|SUSPENDED|     FULL|              2019|\n",
      "|         1947|  M|    CHEEKTOWAGA|   NY|14225|            ERIE|            D|    VALID|     FULL|              2019|\n",
      "|         1996|  M|          BRONX|   NY|10466|           BRONX|     D PERMIT|    VALID|     FULL|              2020|\n",
      "|         1954|  M|       BROOKLYN|   NY|11236|           KINGS|            D|    VALID|     FULL|              2025|\n",
      "|         2000|  M|      EAST OTTO|   NY|14729|     CATTARAUGUS|    DJ PERMIT|    VALID|     FULL|              2021|\n",
      "|         1947|  M|     BRIDGEPORT|   NY|13030|        ONONDAGA|            D|    VALID|     FULL|              2020|\n",
      "+-------------+---+---------------+-----+-----+----------------+-------------+---------+---------+------------------+\n",
      "only showing top 20 rows\n",
      "\n"
     ]
    }
   ],
   "source": [
    "df.show()"
   ]
  },
  {
   "cell_type": "code",
   "execution_count": 5,
   "metadata": {},
   "outputs": [],
   "source": [
    "df.createOrReplaceTempView(\"License\")"
   ]
  },
  {
   "cell_type": "code",
   "execution_count": 78,
   "metadata": {},
   "outputs": [],
   "source": [
    "query = spark.sql(\"SELECT `City`, `Year of Birth`, `Year of Expiration`, `License Class` \\\n",
    "                    FROM License \\\n",
    "                    WHERE `Year of Birth` BETWEEN 1980 AND 2000 \\\n",
    "                    AND Sex='M'\")"
   ]
  },
  {
   "cell_type": "code",
   "execution_count": 79,
   "metadata": {},
   "outputs": [
    {
     "name": "stdout",
     "output_type": "stream",
     "text": [
      "+------------+-------------+------------------+-------------+\n",
      "|        City|Year of Birth|Year of Expiration|License Class|\n",
      "+------------+-------------+------------------+-------------+\n",
      "|    BROOKLYN|         1989|              2020|            D|\n",
      "|    NEW YORK|         1981|              2020|            I|\n",
      "|       BRONX|         1996|              2020|     D PERMIT|\n",
      "|   EAST OTTO|         2000|              2021|    DJ PERMIT|\n",
      "|LONG IS CITY|         1994|              2019|            D|\n",
      "|   BELLEROSE|         1986|              2023|            D|\n",
      "|     MAHOPAC|         1995|              2024|            D|\n",
      "| RANSOMVILLE|         1993|              2022|            D|\n",
      "| STEPHENTOWN|         1984|              2021|           DM|\n",
      "|    BROOKLYN|         1980|              2022|            D|\n",
      "|    BROOKLYN|         1982|              2024|            D|\n",
      "|   HAUPPAUGE|         1991|              2017|     D PERMIT|\n",
      "|WATKINS GLEN|         1993|              2022|            D|\n",
      "|       BRONX|         1998|              2022|            I|\n",
      "|POUGHKEEPSIE|         1988|              2020|            I|\n",
      "|    HUGUENOT|         1991|              2020|            D|\n",
      "|    NEW YORK|         1980|              2018|            D|\n",
      "|       BRONX|         1983|              2020|     D PERMIT|\n",
      "|POUGHKEEPSIE|         1987|              2023|            D|\n",
      "|    BROOKLYN|         1990|              2017|            D|\n",
      "+------------+-------------+------------------+-------------+\n",
      "only showing top 20 rows\n",
      "\n"
     ]
    }
   ],
   "source": [
    "query.show()"
   ]
  },
  {
   "cell_type": "code",
   "execution_count": 80,
   "metadata": {},
   "outputs": [
    {
     "data": {
      "text/plain": [
       "2774999"
      ]
     },
     "execution_count": 80,
     "metadata": {},
     "output_type": "execute_result"
    }
   ],
   "source": [
    "query.count()"
   ]
  },
  {
   "cell_type": "markdown",
   "metadata": {},
   "source": [
    "## 2. Vector Assembler"
   ]
  },
  {
   "cell_type": "code",
   "execution_count": 81,
   "metadata": {},
   "outputs": [],
   "source": [
    "from pyspark.ml.feature import VectorAssembler\n",
    "\n",
    "assembler = VectorAssembler(\n",
    "    inputCols=[\"Year of Birth\", \"Year of Expiration\"],\n",
    "    outputCol='features')\n",
    "\n",
    "query = assembler.transform(query)"
   ]
  },
  {
   "cell_type": "code",
   "execution_count": 82,
   "metadata": {},
   "outputs": [
    {
     "name": "stdout",
     "output_type": "stream",
     "text": [
      "+------------+-------------+------------------+-------------+---------------+\n",
      "|        City|Year of Birth|Year of Expiration|License Class|       features|\n",
      "+------------+-------------+------------------+-------------+---------------+\n",
      "|    BROOKLYN|         1989|              2020|            D|[1989.0,2020.0]|\n",
      "|    NEW YORK|         1981|              2020|            I|[1981.0,2020.0]|\n",
      "|       BRONX|         1996|              2020|     D PERMIT|[1996.0,2020.0]|\n",
      "|   EAST OTTO|         2000|              2021|    DJ PERMIT|[2000.0,2021.0]|\n",
      "|LONG IS CITY|         1994|              2019|            D|[1994.0,2019.0]|\n",
      "|   BELLEROSE|         1986|              2023|            D|[1986.0,2023.0]|\n",
      "|     MAHOPAC|         1995|              2024|            D|[1995.0,2024.0]|\n",
      "| RANSOMVILLE|         1993|              2022|            D|[1993.0,2022.0]|\n",
      "| STEPHENTOWN|         1984|              2021|           DM|[1984.0,2021.0]|\n",
      "|    BROOKLYN|         1980|              2022|            D|[1980.0,2022.0]|\n",
      "|    BROOKLYN|         1982|              2024|            D|[1982.0,2024.0]|\n",
      "|   HAUPPAUGE|         1991|              2017|     D PERMIT|[1991.0,2017.0]|\n",
      "|WATKINS GLEN|         1993|              2022|            D|[1993.0,2022.0]|\n",
      "|       BRONX|         1998|              2022|            I|[1998.0,2022.0]|\n",
      "|POUGHKEEPSIE|         1988|              2020|            I|[1988.0,2020.0]|\n",
      "|    HUGUENOT|         1991|              2020|            D|[1991.0,2020.0]|\n",
      "|    NEW YORK|         1980|              2018|            D|[1980.0,2018.0]|\n",
      "|       BRONX|         1983|              2020|     D PERMIT|[1983.0,2020.0]|\n",
      "|POUGHKEEPSIE|         1987|              2023|            D|[1987.0,2023.0]|\n",
      "|    BROOKLYN|         1990|              2017|            D|[1990.0,2017.0]|\n",
      "+------------+-------------+------------------+-------------+---------------+\n",
      "only showing top 20 rows\n",
      "\n"
     ]
    }
   ],
   "source": [
    "query.show()"
   ]
  },
  {
   "cell_type": "markdown",
   "metadata": {},
   "source": [
    "## 3. kMeans"
   ]
  },
  {
   "cell_type": "code",
   "execution_count": 83,
   "metadata": {},
   "outputs": [],
   "source": [
    "from pyspark.ml.clustering import KMeans\n",
    "\n",
    "kmeans = KMeans().setK(5).setSeed(1)\n",
    "model = kmeans.fit(query)"
   ]
  },
  {
   "cell_type": "markdown",
   "metadata": {},
   "source": [
    "## 4. Prediction"
   ]
  },
  {
   "cell_type": "code",
   "execution_count": 84,
   "metadata": {},
   "outputs": [
    {
     "name": "stdout",
     "output_type": "stream",
     "text": [
      "+------------+-------------+------------------+-------------+---------------+----------+\n",
      "|        City|Year of Birth|Year of Expiration|License Class|       features|prediction|\n",
      "+------------+-------------+------------------+-------------+---------------+----------+\n",
      "|    BROOKLYN|         1989|              2020|            D|[1989.0,2020.0]|         3|\n",
      "|    NEW YORK|         1981|              2020|            I|[1981.0,2020.0]|         4|\n",
      "|       BRONX|         1996|              2020|     D PERMIT|[1996.0,2020.0]|         1|\n",
      "|   EAST OTTO|         2000|              2021|    DJ PERMIT|[2000.0,2021.0]|         1|\n",
      "|LONG IS CITY|         1994|              2019|            D|[1994.0,2019.0]|         1|\n",
      "|   BELLEROSE|         1986|              2023|            D|[1986.0,2023.0]|         0|\n",
      "|     MAHOPAC|         1995|              2024|            D|[1995.0,2024.0]|         2|\n",
      "| RANSOMVILLE|         1993|              2022|            D|[1993.0,2022.0]|         2|\n",
      "| STEPHENTOWN|         1984|              2021|           DM|[1984.0,2021.0]|         4|\n",
      "|    BROOKLYN|         1980|              2022|            D|[1980.0,2022.0]|         4|\n",
      "|    BROOKLYN|         1982|              2024|            D|[1982.0,2024.0]|         4|\n",
      "|   HAUPPAUGE|         1991|              2017|     D PERMIT|[1991.0,2017.0]|         3|\n",
      "|WATKINS GLEN|         1993|              2022|            D|[1993.0,2022.0]|         2|\n",
      "|       BRONX|         1998|              2022|            I|[1998.0,2022.0]|         1|\n",
      "|POUGHKEEPSIE|         1988|              2020|            I|[1988.0,2020.0]|         3|\n",
      "|    HUGUENOT|         1991|              2020|            D|[1991.0,2020.0]|         3|\n",
      "|    NEW YORK|         1980|              2018|            D|[1980.0,2018.0]|         4|\n",
      "|       BRONX|         1983|              2020|     D PERMIT|[1983.0,2020.0]|         4|\n",
      "|POUGHKEEPSIE|         1987|              2023|            D|[1987.0,2023.0]|         0|\n",
      "|    BROOKLYN|         1990|              2017|            D|[1990.0,2017.0]|         3|\n",
      "+------------+-------------+------------------+-------------+---------------+----------+\n",
      "only showing top 20 rows\n",
      "\n"
     ]
    }
   ],
   "source": [
    "prediction = model.transform(query)\n",
    "prediction.show()"
   ]
  },
  {
   "cell_type": "markdown",
   "metadata": {},
   "source": [
    "## 5. Evaluate"
   ]
  },
  {
   "cell_type": "code",
   "execution_count": 85,
   "metadata": {},
   "outputs": [
    {
     "name": "stdout",
     "output_type": "stream",
     "text": [
      "Silhouette with squared euclidean distance = 0.6000210625334547\n"
     ]
    }
   ],
   "source": [
    "from pyspark.ml.evaluation import ClusteringEvaluator\n",
    "\n",
    "evaluator = ClusteringEvaluator()\n",
    "silhouette = evaluator.evaluate(prediction)\n",
    "print(\"Silhouette with squared euclidean distance = \" + str(silhouette))"
   ]
  },
  {
   "cell_type": "markdown",
   "metadata": {},
   "source": [
    "## 6. Cluster Center"
   ]
  },
  {
   "cell_type": "code",
   "execution_count": 86,
   "metadata": {},
   "outputs": [
    {
     "name": "stdout",
     "output_type": "stream",
     "text": [
      "Cluster Centers: \n",
      "[1985.94496334 2022.76302178]\n",
      "[1997.47876262 2019.53306976]\n",
      "[1993.9084316  2023.17896686]\n",
      "[1989.92296319 2019.39982705]\n",
      "[1982.03307073 2020.15344342]\n"
     ]
    }
   ],
   "source": [
    "centers = model.clusterCenters()\n",
    "print(\"Cluster Centers: \")\n",
    "for center in centers:\n",
    "    print(center)"
   ]
  },
  {
   "cell_type": "markdown",
   "metadata": {},
   "source": [
    "## 7. Vizualization"
   ]
  },
  {
   "cell_type": "code",
   "execution_count": 87,
   "metadata": {},
   "outputs": [],
   "source": [
    "import pixiedust"
   ]
  },
  {
   "cell_type": "code",
   "execution_count": 88,
   "metadata": {
    "pixiedust": {
     "displayParams": {
      "color": "prediction",
      "handlerId": "scatterPlot",
      "keyFields": "Year of Birth",
      "valueFields": "Year of Expiration"
     }
    }
   },
   "outputs": [
    {
     "data": {
      "text/html": [
       "<style type=\"text/css\">.pd_warning{display:none;}</style><div class=\"pd_warning\"><em>Hey, there's something awesome here! To see it, open this notebook outside GitHub, in a viewer like Jupyter</em></div>"
      ],
      "text/plain": [
       "<IPython.core.display.HTML object>"
      ]
     },
     "metadata": {
      "pixieapp_metadata": null
     },
     "output_type": "display_data"
    }
   ],
   "source": [
    "display(prediction)"
   ]
  },
  {
   "cell_type": "markdown",
   "metadata": {},
   "source": [
    "![cluster](img/img1.png)"
   ]
  },
  {
   "cell_type": "code",
   "execution_count": null,
   "metadata": {},
   "outputs": [],
   "source": []
  }
 ],
 "metadata": {
  "kernelspec": {
   "display_name": "Python 3",
   "language": "python",
   "name": "python3"
  },
  "language_info": {
   "codemirror_mode": {
    "name": "ipython",
    "version": 3
   },
   "file_extension": ".py",
   "mimetype": "text/x-python",
   "name": "python",
   "nbconvert_exporter": "python",
   "pygments_lexer": "ipython3",
   "version": "3.6.4"
  }
 },
 "nbformat": 4,
 "nbformat_minor": 2
}
