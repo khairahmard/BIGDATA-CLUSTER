{
 "cells": [
  {
   "cell_type": "code",
   "execution_count": 1,
   "metadata": {},
   "outputs": [],
   "source": [
    "import findspark\n",
    "findspark.init()\n",
    "\n",
    "from pyspark.sql import SparkSession\n",
    "spark = SparkSession \\\n",
    "    .builder \\\n",
    "    .appName(\"Python Spark Clustering\") \\\n",
    "    .getOrCreate()"
   ]
  },
  {
   "cell_type": "markdown",
   "metadata": {},
   "source": [
    "# Import Data"
   ]
  },
  {
   "cell_type": "code",
   "execution_count": 2,
   "metadata": {},
   "outputs": [],
   "source": [
    "df = spark.read.csv(\"D:/Spark/tugas cluster/driver-license-permit-and-non-driver-identification-cards-issued-as-of-august-30-2017.csv\", header=True, inferSchema=True)"
   ]
  },
  {
   "cell_type": "code",
   "execution_count": 4,
   "metadata": {},
   "outputs": [
    {
     "data": {
      "text/plain": [
       "StructType(List(StructField(Year of Birth,IntegerType,true),StructField(Sex,StringType,true),StructField(City,StringType,true),StructField(State,StringType,true),StructField(Zip,StringType,true),StructField(Residence County,StringType,true),StructField(License Class,StringType,true),StructField(Status,StringType,true),StructField(Privilege,StringType,true),StructField(Year of Expiration,IntegerType,true)))"
      ]
     },
     "execution_count": 4,
     "metadata": {},
     "output_type": "execute_result"
    }
   ],
   "source": [
    "df.schema"
   ]
  },
  {
   "cell_type": "code",
   "execution_count": 5,
   "metadata": {},
   "outputs": [
    {
     "name": "stdout",
     "output_type": "stream",
     "text": [
      "+-------------+---+---------------+-----+-----+----------------+-------------+---------+---------+------------------+\n",
      "|Year of Birth|Sex|           City|State|  Zip|Residence County|License Class|   Status|Privilege|Year of Expiration|\n",
      "+-------------+---+---------------+-----+-----+----------------+-------------+---------+---------+------------------+\n",
      "|         1950|  F|       GLENMONT|   NY|12077|          ALBANY|            D|    VALID|     FULL|              2020|\n",
      "|         1977|  F| WEST HEMPSTEAD|   NY|11552|          NASSAU|            D|    VALID|     FULL|              2019|\n",
      "|         1967|  M|      SMITHTOWN|   NY|11787|         SUFFOLK|            D|    VALID|     FULL|              2019|\n",
      "|         1989|  M|       BROOKLYN|   NY|11213|           KINGS|            D|    VALID|     FULL|              2020|\n",
      "|         1994|  F|        BXVILLE|   NY|10708|     WESTCHESTER|            D|    VALID|     FULL|              2023|\n",
      "|         1960|  M|       NEW YORK|   NY|10025|        NEW YORK|            D|    VALID|     FULL|              2019|\n",
      "|         1961|  F|  MONTOUR FALLS|   NY|14865|        SCHUYLER|            D|    VALID|     FULL|              2018|\n",
      "|         1952|  F|JACKSON HEIGHTS|   NY|11372|          QUEENS|            D|    VALID|     FULL|              2025|\n",
      "|         1981|  M|       NEW YORK|   NY|10039|        NEW YORK|            I|     NONE|     NONE|              2020|\n",
      "|         1958|  F|      NORTHPORT|   NY|11768|         SUFFOLK|            D|    VALID|     FULL|              2020|\n",
      "|         1999|  F|  STATEN ISLAND|   NY|10312|        RICHMOND|            D|    VALID|     FULL|              2020|\n",
      "|         1980|  F|       SYRACUSE|   NY|13214|        ONONDAGA|            D|    VALID|     FULL|              2019|\n",
      "|         1923|  F|        WAVERLY|   NY|14892|           TIOGA|            I|     NONE|     NONE|              2019|\n",
      "|         1949|  F|  WILLIAMSVILLE|   NY|14221|            ERIE|            D|    VALID|     FULL|              2019|\n",
      "|         1974|  F|   POUGHKEEPSIE|   NY|12601|        DUTCHESS|            D|SUSPENDED|     FULL|              2019|\n",
      "|         1947|  M|    CHEEKTOWAGA|   NY|14225|            ERIE|            D|    VALID|     FULL|              2019|\n",
      "|         1996|  M|          BRONX|   NY|10466|           BRONX|     D PERMIT|    VALID|     FULL|              2020|\n",
      "|         1954|  M|       BROOKLYN|   NY|11236|           KINGS|            D|    VALID|     FULL|              2025|\n",
      "|         2000|  M|      EAST OTTO|   NY|14729|     CATTARAUGUS|    DJ PERMIT|    VALID|     FULL|              2021|\n",
      "|         1947|  M|     BRIDGEPORT|   NY|13030|        ONONDAGA|            D|    VALID|     FULL|              2020|\n",
      "+-------------+---+---------------+-----+-----+----------------+-------------+---------+---------+------------------+\n",
      "only showing top 20 rows\n",
      "\n"
     ]
    }
   ],
   "source": [
    "df.show()"
   ]
  },
  {
   "cell_type": "code",
   "execution_count": 6,
   "metadata": {},
   "outputs": [],
   "source": [
    "df.createOrReplaceTempView(\"License\")"
   ]
  },
  {
   "cell_type": "markdown",
   "metadata": {},
   "source": [
    "# Cluster 1"
   ]
  },
  {
   "cell_type": "code",
   "execution_count": 7,
   "metadata": {},
   "outputs": [],
   "source": [
    "query = spark.sql(\"SELECT `City`, `Year of Birth`, `Year of Expiration`, `License Class` \\\n",
    "                    FROM License \\\n",
    "                    WHERE `Year of Birth` BETWEEN 1980 AND 2000 \\\n",
    "                    AND Sex='M'\")"
   ]
  },
  {
   "cell_type": "code",
   "execution_count": 8,
   "metadata": {},
   "outputs": [
    {
     "name": "stdout",
     "output_type": "stream",
     "text": [
      "+------------+-------------+------------------+-------------+\n",
      "|        City|Year of Birth|Year of Expiration|License Class|\n",
      "+------------+-------------+------------------+-------------+\n",
      "|    BROOKLYN|         1989|              2020|            D|\n",
      "|    NEW YORK|         1981|              2020|            I|\n",
      "|       BRONX|         1996|              2020|     D PERMIT|\n",
      "|   EAST OTTO|         2000|              2021|    DJ PERMIT|\n",
      "|LONG IS CITY|         1994|              2019|            D|\n",
      "|   BELLEROSE|         1986|              2023|            D|\n",
      "|     MAHOPAC|         1995|              2024|            D|\n",
      "| RANSOMVILLE|         1993|              2022|            D|\n",
      "| STEPHENTOWN|         1984|              2021|           DM|\n",
      "|    BROOKLYN|         1980|              2022|            D|\n",
      "|    BROOKLYN|         1982|              2024|            D|\n",
      "|   HAUPPAUGE|         1991|              2017|     D PERMIT|\n",
      "|WATKINS GLEN|         1993|              2022|            D|\n",
      "|       BRONX|         1998|              2022|            I|\n",
      "|POUGHKEEPSIE|         1988|              2020|            I|\n",
      "|    HUGUENOT|         1991|              2020|            D|\n",
      "|    NEW YORK|         1980|              2018|            D|\n",
      "|       BRONX|         1983|              2020|     D PERMIT|\n",
      "|POUGHKEEPSIE|         1987|              2023|            D|\n",
      "|    BROOKLYN|         1990|              2017|            D|\n",
      "+------------+-------------+------------------+-------------+\n",
      "only showing top 20 rows\n",
      "\n"
     ]
    }
   ],
   "source": [
    "query.show()"
   ]
  },
  {
   "cell_type": "code",
   "execution_count": 9,
   "metadata": {},
   "outputs": [
    {
     "data": {
      "text/plain": [
       "2774999"
      ]
     },
     "execution_count": 9,
     "metadata": {},
     "output_type": "execute_result"
    }
   ],
   "source": [
    "query.count()"
   ]
  },
  {
   "cell_type": "markdown",
   "metadata": {},
   "source": [
    "#### Vector Assembler"
   ]
  },
  {
   "cell_type": "code",
   "execution_count": 10,
   "metadata": {},
   "outputs": [],
   "source": [
    "from pyspark.ml.feature import VectorAssembler\n",
    "\n",
    "assembler = VectorAssembler(\n",
    "    inputCols=[\"Year of Birth\", \"Year of Expiration\"],\n",
    "    outputCol='features')\n",
    "\n",
    "query = assembler.transform(query)"
   ]
  },
  {
   "cell_type": "code",
   "execution_count": 11,
   "metadata": {},
   "outputs": [
    {
     "name": "stdout",
     "output_type": "stream",
     "text": [
      "+------------+-------------+------------------+-------------+---------------+\n",
      "|        City|Year of Birth|Year of Expiration|License Class|       features|\n",
      "+------------+-------------+------------------+-------------+---------------+\n",
      "|    BROOKLYN|         1989|              2020|            D|[1989.0,2020.0]|\n",
      "|    NEW YORK|         1981|              2020|            I|[1981.0,2020.0]|\n",
      "|       BRONX|         1996|              2020|     D PERMIT|[1996.0,2020.0]|\n",
      "|   EAST OTTO|         2000|              2021|    DJ PERMIT|[2000.0,2021.0]|\n",
      "|LONG IS CITY|         1994|              2019|            D|[1994.0,2019.0]|\n",
      "|   BELLEROSE|         1986|              2023|            D|[1986.0,2023.0]|\n",
      "|     MAHOPAC|         1995|              2024|            D|[1995.0,2024.0]|\n",
      "| RANSOMVILLE|         1993|              2022|            D|[1993.0,2022.0]|\n",
      "| STEPHENTOWN|         1984|              2021|           DM|[1984.0,2021.0]|\n",
      "|    BROOKLYN|         1980|              2022|            D|[1980.0,2022.0]|\n",
      "|    BROOKLYN|         1982|              2024|            D|[1982.0,2024.0]|\n",
      "|   HAUPPAUGE|         1991|              2017|     D PERMIT|[1991.0,2017.0]|\n",
      "|WATKINS GLEN|         1993|              2022|            D|[1993.0,2022.0]|\n",
      "|       BRONX|         1998|              2022|            I|[1998.0,2022.0]|\n",
      "|POUGHKEEPSIE|         1988|              2020|            I|[1988.0,2020.0]|\n",
      "|    HUGUENOT|         1991|              2020|            D|[1991.0,2020.0]|\n",
      "|    NEW YORK|         1980|              2018|            D|[1980.0,2018.0]|\n",
      "|       BRONX|         1983|              2020|     D PERMIT|[1983.0,2020.0]|\n",
      "|POUGHKEEPSIE|         1987|              2023|            D|[1987.0,2023.0]|\n",
      "|    BROOKLYN|         1990|              2017|            D|[1990.0,2017.0]|\n",
      "+------------+-------------+------------------+-------------+---------------+\n",
      "only showing top 20 rows\n",
      "\n"
     ]
    }
   ],
   "source": [
    "query.show()"
   ]
  },
  {
   "cell_type": "markdown",
   "metadata": {},
   "source": [
    "#### kMeans"
   ]
  },
  {
   "cell_type": "code",
   "execution_count": 12,
   "metadata": {},
   "outputs": [],
   "source": [
    "from pyspark.ml.clustering import KMeans\n",
    "\n",
    "kmeans = KMeans().setK(5).setSeed(1)\n",
    "model = kmeans.fit(query)"
   ]
  },
  {
   "cell_type": "markdown",
   "metadata": {},
   "source": [
    "#### Prediction"
   ]
  },
  {
   "cell_type": "code",
   "execution_count": 13,
   "metadata": {},
   "outputs": [
    {
     "name": "stdout",
     "output_type": "stream",
     "text": [
      "+------------+-------------+------------------+-------------+---------------+----------+\n",
      "|        City|Year of Birth|Year of Expiration|License Class|       features|prediction|\n",
      "+------------+-------------+------------------+-------------+---------------+----------+\n",
      "|    BROOKLYN|         1989|              2020|            D|[1989.0,2020.0]|         3|\n",
      "|    NEW YORK|         1981|              2020|            I|[1981.0,2020.0]|         4|\n",
      "|       BRONX|         1996|              2020|     D PERMIT|[1996.0,2020.0]|         1|\n",
      "|   EAST OTTO|         2000|              2021|    DJ PERMIT|[2000.0,2021.0]|         1|\n",
      "|LONG IS CITY|         1994|              2019|            D|[1994.0,2019.0]|         1|\n",
      "|   BELLEROSE|         1986|              2023|            D|[1986.0,2023.0]|         0|\n",
      "|     MAHOPAC|         1995|              2024|            D|[1995.0,2024.0]|         2|\n",
      "| RANSOMVILLE|         1993|              2022|            D|[1993.0,2022.0]|         2|\n",
      "| STEPHENTOWN|         1984|              2021|           DM|[1984.0,2021.0]|         4|\n",
      "|    BROOKLYN|         1980|              2022|            D|[1980.0,2022.0]|         4|\n",
      "|    BROOKLYN|         1982|              2024|            D|[1982.0,2024.0]|         4|\n",
      "|   HAUPPAUGE|         1991|              2017|     D PERMIT|[1991.0,2017.0]|         3|\n",
      "|WATKINS GLEN|         1993|              2022|            D|[1993.0,2022.0]|         2|\n",
      "|       BRONX|         1998|              2022|            I|[1998.0,2022.0]|         1|\n",
      "|POUGHKEEPSIE|         1988|              2020|            I|[1988.0,2020.0]|         3|\n",
      "|    HUGUENOT|         1991|              2020|            D|[1991.0,2020.0]|         3|\n",
      "|    NEW YORK|         1980|              2018|            D|[1980.0,2018.0]|         4|\n",
      "|       BRONX|         1983|              2020|     D PERMIT|[1983.0,2020.0]|         4|\n",
      "|POUGHKEEPSIE|         1987|              2023|            D|[1987.0,2023.0]|         0|\n",
      "|    BROOKLYN|         1990|              2017|            D|[1990.0,2017.0]|         3|\n",
      "+------------+-------------+------------------+-------------+---------------+----------+\n",
      "only showing top 20 rows\n",
      "\n"
     ]
    }
   ],
   "source": [
    "prediction = model.transform(query)\n",
    "prediction.show()"
   ]
  },
  {
   "cell_type": "markdown",
   "metadata": {},
   "source": [
    "#### Evaluate"
   ]
  },
  {
   "cell_type": "code",
   "execution_count": 14,
   "metadata": {},
   "outputs": [
    {
     "name": "stdout",
     "output_type": "stream",
     "text": [
      "Silhouette with squared euclidean distance = 0.6000210625334547\n"
     ]
    }
   ],
   "source": [
    "from pyspark.ml.evaluation import ClusteringEvaluator\n",
    "\n",
    "evaluator = ClusteringEvaluator()\n",
    "silhouette = evaluator.evaluate(prediction)\n",
    "print(\"Silhouette with squared euclidean distance = \" + str(silhouette))"
   ]
  },
  {
   "cell_type": "markdown",
   "metadata": {},
   "source": [
    "#### Cluster Center"
   ]
  },
  {
   "cell_type": "code",
   "execution_count": 15,
   "metadata": {},
   "outputs": [
    {
     "name": "stdout",
     "output_type": "stream",
     "text": [
      "Cluster Centers: \n",
      "[1985.94496334 2022.76302178]\n",
      "[1997.47876262 2019.53306976]\n",
      "[1993.9084316  2023.17896686]\n",
      "[1989.92296319 2019.39982705]\n",
      "[1982.03307073 2020.15344342]\n"
     ]
    }
   ],
   "source": [
    "centers = model.clusterCenters()\n",
    "print(\"Cluster Centers: \")\n",
    "for center in centers:\n",
    "    print(center)"
   ]
  },
  {
   "cell_type": "markdown",
   "metadata": {},
   "source": [
    "#### Vizualization"
   ]
  },
  {
   "cell_type": "code",
   "execution_count": 16,
   "metadata": {},
   "outputs": [
    {
     "name": "stdout",
     "output_type": "stream",
     "text": [
      "Pixiedust database opened successfully\n"
     ]
    },
    {
     "data": {
      "text/html": [
       "\n",
       "        <div style=\"margin:10px\">\n",
       "            <a href=\"https://github.com/ibm-watson-data-lab/pixiedust\" target=\"_new\">\n",
       "                <img src=\"https://github.com/ibm-watson-data-lab/pixiedust/raw/master/docs/_static/pd_icon32.png\" style=\"float:left;margin-right:10px\"/>\n",
       "            </a>\n",
       "            <span>Pixiedust version 1.1.15</span>\n",
       "        </div>\n",
       "        "
      ],
      "text/plain": [
       "<IPython.core.display.HTML object>"
      ]
     },
     "metadata": {},
     "output_type": "display_data"
    }
   ],
   "source": [
    "import pixiedust"
   ]
  },
  {
   "cell_type": "code",
   "execution_count": 17,
   "metadata": {
    "pixiedust": {
     "displayParams": {
      "color": "prediction",
      "handlerId": "scatterPlot",
      "keyFields": "Year of Birth",
      "valueFields": "Year of Expiration"
     }
    }
   },
   "outputs": [
    {
     "data": {
      "text/html": [
       "<style type=\"text/css\">.pd_warning{display:none;}</style><div class=\"pd_warning\"><em>Hey, there's something awesome here! To see it, open this notebook outside GitHub, in a viewer like Jupyter</em></div><script class=\"pd_save is-viewer-good\">\n",
       "                    function setChartScript() {\n",
       "                        if (!window.Bokeh) {\n",
       "                            setTimeout(setChartScript, 250)\n",
       "                        } else {\n",
       "                            var d = document.getElementById(\"pd-bkchartdiv-a6282fd6\")\n",
       "                            if (d){\n",
       "                                var el = document.createElement('div')\n",
       "                                el.innerHTML = `\n",
       "<script type=\"text/javascript\">\n",
       "  (function() {\n",
       "    var fn = function() {\n",
       "      Bokeh.safely(function() {\n",
       "        (function(root) {\n",
       "          function embed_document(root) {\n",
       "            \n",
       "          var docs_json = '{\"9d1c1263-7937-43bf-9aa6-1c03347a4390\":{\"roots\":{\"references\":[{\"attributes\":{\"items\":[{\"id\":\"db4de3d8-6e2c-4a91-b821-61f9ce786c59\",\"type\":\"LegendItem\"},{\"id\":\"4756595c-a616-4cf2-85a1-f5eb980e73ee\",\"type\":\"LegendItem\"},{\"id\":\"449076d8-dcf6-477e-87c0-9262e4fc6b2f\",\"type\":\"LegendItem\"},{\"id\":\"b3a6050e-19a3-461d-888c-a55b418e5192\",\"type\":\"LegendItem\"}],\"location\":\"top_left\",\"plot\":{\"id\":\"3872a34e-e738-4a99-98b2-603a6f6d3734\",\"subtype\":\"Figure\",\"type\":\"Plot\"}},\"id\":\"d2cc7efe-1057-444c-85aa-a2be7f2e53a9\",\"type\":\"Legend\"},{\"attributes\":{\"fill_alpha\":{\"value\":0.1},\"fill_color\":{\"value\":\"#1f77b4\"},\"line_alpha\":{\"value\":0.1},\"line_color\":{\"value\":\"#1f77b4\"},\"size\":{\"units\":\"screen\",\"value\":8},\"x\":{\"field\":\"x\"},\"y\":{\"field\":\"y\"}},\"id\":\"d6c46457-b420-4f9f-b062-06c82bec5f03\",\"type\":\"Circle\"},{\"attributes\":{\"source\":{\"id\":\"08b7533a-c878-4806-b12f-4d94c834e568\",\"type\":\"ColumnDataSource\"}},\"id\":\"99a4c2d9-2aa1-43cf-99b9-a8e2eae83b66\",\"type\":\"CDSView\"},{\"attributes\":{\"callback\":null},\"id\":\"c3037907-5bf9-4fe5-8e4f-057a19363412\",\"type\":\"DataRange1d\"},{\"attributes\":{\"source\":{\"id\":\"24a614f2-95b4-45a9-b199-ad6110f08e08\",\"type\":\"ColumnDataSource\"}},\"id\":\"e811edf4-7577-4e58-8fa5-65b0c24f3eba\",\"type\":\"CDSView\"},{\"attributes\":{\"fill_alpha\":{\"value\":0.1},\"fill_color\":{\"value\":\"#1f77b4\"},\"line_alpha\":{\"value\":0.1},\"line_color\":{\"value\":\"#1f77b4\"},\"size\":{\"units\":\"screen\",\"value\":8},\"x\":{\"field\":\"x\"},\"y\":{\"field\":\"y\"}},\"id\":\"b9feb2db-42c0-42ff-8631-7ea28f4cec03\",\"type\":\"Circle\"},{\"attributes\":{\"label\":{\"value\":\"4\"},\"renderers\":[{\"id\":\"87449926-d776-426e-b121-1e27eb71e5ef\",\"type\":\"GlyphRenderer\"}]},\"id\":\"db4de3d8-6e2c-4a91-b821-61f9ce786c59\",\"type\":\"LegendItem\"},{\"attributes\":{\"fill_alpha\":{\"value\":0.1},\"fill_color\":{\"value\":\"#1f77b4\"},\"line_alpha\":{\"value\":0.1},\"line_color\":{\"value\":\"#1f77b4\"},\"size\":{\"units\":\"screen\",\"value\":8},\"x\":{\"field\":\"x\"},\"y\":{\"field\":\"y\"}},\"id\":\"dbea6124-d6a7-4d3b-9bb2-e8ba33a3c1fe\",\"type\":\"Circle\"},{\"attributes\":{\"callback\":null,\"tooltips\":[[\"Year of Birth\",\"@x\"],[\"Year of Expiration\",\"@y\"]]},\"id\":\"5d900c63-8cd2-4e59-ab0e-fb673be19be3\",\"type\":\"HoverTool\"},{\"attributes\":{},\"id\":\"2953bf73-429c-41cf-a30b-35061cd686c4\",\"type\":\"BasicTicker\"},{\"attributes\":{\"source\":{\"id\":\"bfaddf08-f9e6-4bb9-bdb8-ab4f123238ed\",\"type\":\"ColumnDataSource\"}},\"id\":\"43ff06ae-6424-4fce-9221-66d638222eba\",\"type\":\"CDSView\"},{\"attributes\":{\"axis_label\":\"Year of Birth\",\"formatter\":{\"id\":\"03102a5b-1af0-4937-b04a-f52e68c3b48d\",\"type\":\"BasicTickFormatter\"},\"plot\":{\"id\":\"3872a34e-e738-4a99-98b2-603a6f6d3734\",\"subtype\":\"Figure\",\"type\":\"Plot\"},\"ticker\":{\"id\":\"47a89026-044c-4b15-b474-58eaeb537cac\",\"type\":\"BasicTicker\"}},\"id\":\"53041490-5b18-4deb-8080-796689acef6a\",\"type\":\"LinearAxis\"},{\"attributes\":{\"callback\":null},\"id\":\"edf610ac-d4eb-425e-b8e0-4f5394ffcc90\",\"type\":\"DataRange1d\"},{\"attributes\":{\"fill_alpha\":{\"value\":0.1},\"fill_color\":{\"value\":\"#1f77b4\"},\"line_alpha\":{\"value\":0.1},\"line_color\":{\"value\":\"#1f77b4\"},\"size\":{\"units\":\"screen\",\"value\":8},\"x\":{\"field\":\"x\"},\"y\":{\"field\":\"y\"}},\"id\":\"73544ade-ede7-48c2-a88b-2dc547279987\",\"type\":\"Circle\"},{\"attributes\":{},\"id\":\"8f46f48c-f915-4aad-a8b7-d28fbbc270a3\",\"type\":\"WheelZoomTool\"},{\"attributes\":{\"callback\":null,\"column_names\":[\"x\",\"y\"],\"data\":{\"x\":[1980,1980,1980,1980,1981,1982,1982,1983,1983,1984,1984,1984,1984,1984,1984,1985,1985,1985,1985],\"y\":[2021,2020,2019,2022,2018,2020,2018,2019,2020,2021,2021,2017,2019,2019,2021,2018,2017,2019,2019]}},\"id\":\"bfaddf08-f9e6-4bb9-bdb8-ab4f123238ed\",\"type\":\"ColumnDataSource\"},{\"attributes\":{\"callback\":null,\"column_names\":[\"x\",\"y\"],\"data\":{\"x\":[1980,1980,1980,1980,1981,1982,1982,1983,1983,1984,1984,1984,1984,1984,1984,1984,1985,1985,1985,1985,1985,1985,1985,1985,1985,1986,1986,1986,1986,1986,1986,1986,1986,1986,1986,1987,1987,1987,1987,1987,1987,1987,1987,1988,1988,1988,1989,1989,1989,1989,1989,1990,1990,1990,1990,1990,1990,1990,1990,1990,1990,1990,1991,1991,1991,1991,1992,1992,1992,1993,1993,1993,1994,1994,1995,1995,1995,1996,1996,1996,1996,1996,1996,1996,1996,1997,1997,1997,1997,1998,1998,1998,1998,1998,1998,1999,1999,1999,2000,2000],\"y\":[2021,2020,2019,2022,2018,2020,2018,2019,2020,2023,2021,2021,2017,2019,2019,2021,2020,2022,2025,2025,2022,2018,2017,2019,2019,2023,2023,2024,2019,2023,2023,2025,2018,2018,2018,2025,2024,2025,2023,2024,2024,2018,2019,2024,2020,2018,2024,2018,2017,2018,2018,2024,2023,2018,2019,2019,2019,2019,2021,2019,2019,2020,2025,2020,2020,2021,2021,2021,2021,2022,2022,2017,2023,2025,2021,2024,2024,2017,2018,2019,2018,2017,2018,2017,2019,2021,2018,2018,2018,2019,2019,2019,2021,2019,2020,2019,2020,2020,2022,2021]}},\"id\":\"24a614f2-95b4-45a9-b199-ad6110f08e08\",\"type\":\"ColumnDataSource\"},{\"attributes\":{\"fill_alpha\":{\"value\":0.5},\"fill_color\":{\"value\":\"#2ca02c\"},\"line_color\":{\"value\":\"#2ca02c\"},\"size\":{\"units\":\"screen\",\"value\":8},\"x\":{\"field\":\"x\"},\"y\":{\"field\":\"y\"}},\"id\":\"c57262b3-e31f-4dd6-adf4-81966eb85e2e\",\"type\":\"Circle\"},{\"attributes\":{},\"id\":\"03102a5b-1af0-4937-b04a-f52e68c3b48d\",\"type\":\"BasicTickFormatter\"},{\"attributes\":{\"fill_alpha\":{\"value\":0.5},\"fill_color\":{\"value\":\"#d62728\"},\"line_color\":{\"value\":\"#d62728\"},\"size\":{\"units\":\"screen\",\"value\":8},\"x\":{\"field\":\"x\"},\"y\":{\"field\":\"y\"}},\"id\":\"f900cdac-f8c3-4be5-8afc-c8788e893049\",\"type\":\"Circle\"},{\"attributes\":{\"data_source\":{\"id\":\"24a614f2-95b4-45a9-b199-ad6110f08e08\",\"type\":\"ColumnDataSource\"},\"glyph\":{\"id\":\"769b96f7-b466-4007-8f0f-8799d1896d92\",\"type\":\"Circle\"},\"hover_glyph\":null,\"muted_glyph\":null,\"nonselection_glyph\":{\"id\":\"73544ade-ede7-48c2-a88b-2dc547279987\",\"type\":\"Circle\"},\"selection_glyph\":null,\"view\":{\"id\":\"e811edf4-7577-4e58-8fa5-65b0c24f3eba\",\"type\":\"CDSView\"}},\"id\":\"819c0259-541c-45bb-b4db-6e94edcedcd1\",\"type\":\"GlyphRenderer\"},{\"attributes\":{\"callback\":null,\"column_names\":[\"x\",\"y\"],\"data\":{\"x\":[1996,1996,1996,1996,1996,1996,1996,1996,1997,1997,1997,1997,1998,1998,1998,1998,1998,1998,1999,1999,1999,2000,2000],\"y\":[2017,2018,2019,2018,2017,2018,2017,2019,2021,2018,2018,2018,2019,2019,2019,2021,2019,2020,2019,2020,2020,2022,2021]}},\"id\":\"f625b519-b3c7-4394-acf5-6243da6e9609\",\"type\":\"ColumnDataSource\"},{\"attributes\":{},\"id\":\"34858b12-d498-4784-8e08-cc78ca28a3e3\",\"type\":\"BasicTickFormatter\"},{\"attributes\":{},\"id\":\"22b444bb-f721-4ce5-a144-35fe62b71fff\",\"type\":\"LinearScale\"},{\"attributes\":{\"source\":{\"id\":\"f625b519-b3c7-4394-acf5-6243da6e9609\",\"type\":\"ColumnDataSource\"}},\"id\":\"44cc67c4-47b2-4366-a990-e023c3796303\",\"type\":\"CDSView\"},{\"attributes\":{\"fill_alpha\":{\"value\":0.5},\"fill_color\":{\"value\":\"#9467bd\"},\"line_color\":{\"value\":\"#9467bd\"},\"size\":{\"units\":\"screen\",\"value\":8},\"x\":{\"field\":\"x\"},\"y\":{\"field\":\"y\"}},\"id\":\"c5458a2a-2da7-49e1-b8e9-f7ea551af9d7\",\"type\":\"Circle\"},{\"attributes\":{\"data_source\":{\"id\":\"f625b519-b3c7-4394-acf5-6243da6e9609\",\"type\":\"ColumnDataSource\"},\"glyph\":{\"id\":\"c5458a2a-2da7-49e1-b8e9-f7ea551af9d7\",\"type\":\"Circle\"},\"hover_glyph\":null,\"muted_glyph\":null,\"nonselection_glyph\":{\"id\":\"dbea6124-d6a7-4d3b-9bb2-e8ba33a3c1fe\",\"type\":\"Circle\"},\"selection_glyph\":null,\"view\":{\"id\":\"44cc67c4-47b2-4366-a990-e023c3796303\",\"type\":\"CDSView\"}},\"id\":\"7279c530-76a9-4004-92ed-05264990fc28\",\"type\":\"GlyphRenderer\"},{\"attributes\":{\"overlay\":{\"id\":\"70e2f670-14c3-4582-96d1-f4b7ee13d36e\",\"type\":\"BoxAnnotation\"}},\"id\":\"e46ea1cc-3b57-4cd1-a33a-54ecdece44ea\",\"type\":\"BoxZoomTool\"},{\"attributes\":{\"dimension\":1,\"grid_line_alpha\":{\"value\":0.3},\"plot\":{\"id\":\"3872a34e-e738-4a99-98b2-603a6f6d3734\",\"subtype\":\"Figure\",\"type\":\"Plot\"},\"ticker\":{\"id\":\"2953bf73-429c-41cf-a30b-35061cd686c4\",\"type\":\"BasicTicker\"}},\"id\":\"ba7c0328-4986-4bdd-8826-fffd8928a232\",\"type\":\"Grid\"},{\"attributes\":{\"label\":{\"value\":\"2\"},\"renderers\":[{\"id\":\"277c538f-adf9-49fa-aa31-b62db8f04de0\",\"type\":\"GlyphRenderer\"}]},\"id\":\"449076d8-dcf6-477e-87c0-9262e4fc6b2f\",\"type\":\"LegendItem\"},{\"attributes\":{\"fill_alpha\":{\"value\":0.5},\"fill_color\":{\"value\":\"#1f77b4\"},\"line_color\":{\"value\":\"#1f77b4\"},\"size\":{\"units\":\"screen\",\"value\":8},\"x\":{\"field\":\"x\"},\"y\":{\"field\":\"y\"}},\"id\":\"b4775d1a-d4d6-41f4-b0e2-01f9c87d2d89\",\"type\":\"Circle\"},{\"attributes\":{\"below\":[{\"id\":\"53041490-5b18-4deb-8080-796689acef6a\",\"type\":\"LinearAxis\"}],\"left\":[{\"id\":\"fdc7fcf0-129e-40f6-9b07-6a4f53a6d50d\",\"type\":\"LinearAxis\"}],\"plot_height\":490,\"plot_width\":726,\"renderers\":[{\"id\":\"53041490-5b18-4deb-8080-796689acef6a\",\"type\":\"LinearAxis\"},{\"id\":\"2dee00de-998b-4bc9-9900-3c261fd025b0\",\"type\":\"Grid\"},{\"id\":\"fdc7fcf0-129e-40f6-9b07-6a4f53a6d50d\",\"type\":\"LinearAxis\"},{\"id\":\"ba7c0328-4986-4bdd-8826-fffd8928a232\",\"type\":\"Grid\"},{\"id\":\"70e2f670-14c3-4582-96d1-f4b7ee13d36e\",\"type\":\"BoxAnnotation\"},{\"id\":\"d2cc7efe-1057-444c-85aa-a2be7f2e53a9\",\"type\":\"Legend\"},{\"id\":\"87449926-d776-426e-b121-1e27eb71e5ef\",\"type\":\"GlyphRenderer\"},{\"id\":\"819c0259-541c-45bb-b4db-6e94edcedcd1\",\"type\":\"GlyphRenderer\"},{\"id\":\"05346265-1e5d-4238-a627-69768d942fc8\",\"type\":\"GlyphRenderer\"},{\"id\":\"277c538f-adf9-49fa-aa31-b62db8f04de0\",\"type\":\"GlyphRenderer\"},{\"id\":\"7279c530-76a9-4004-92ed-05264990fc28\",\"type\":\"GlyphRenderer\"}],\"title\":{\"id\":\"b209cf62-5d01-40db-9a31-88546e7fe726\",\"type\":\"Title\"},\"toolbar\":{\"id\":\"650d78fa-9a12-4760-9227-90ca8b689619\",\"type\":\"Toolbar\"},\"x_range\":{\"id\":\"c3037907-5bf9-4fe5-8e4f-057a19363412\",\"type\":\"DataRange1d\"},\"x_scale\":{\"id\":\"22b444bb-f721-4ce5-a144-35fe62b71fff\",\"type\":\"LinearScale\"},\"y_range\":{\"id\":\"edf610ac-d4eb-425e-b8e0-4f5394ffcc90\",\"type\":\"DataRange1d\"},\"y_scale\":{\"id\":\"b1672ef2-88a0-4dac-9d0d-7b16fba568d0\",\"type\":\"LinearScale\"}},\"id\":\"3872a34e-e738-4a99-98b2-603a6f6d3734\",\"subtype\":\"Figure\",\"type\":\"Plot\"},{\"attributes\":{\"plot\":null,\"text\":\"\"},\"id\":\"b209cf62-5d01-40db-9a31-88546e7fe726\",\"type\":\"Title\"},{\"attributes\":{},\"id\":\"598e0139-e1b7-4315-97d4-e931d9f2bb99\",\"type\":\"SaveTool\"},{\"attributes\":{\"grid_line_alpha\":{\"value\":0.3},\"plot\":{\"id\":\"3872a34e-e738-4a99-98b2-603a6f6d3734\",\"subtype\":\"Figure\",\"type\":\"Plot\"},\"ticker\":{\"id\":\"47a89026-044c-4b15-b474-58eaeb537cac\",\"type\":\"BasicTicker\"}},\"id\":\"2dee00de-998b-4bc9-9900-3c261fd025b0\",\"type\":\"Grid\"},{\"attributes\":{\"data_source\":{\"id\":\"08b7533a-c878-4806-b12f-4d94c834e568\",\"type\":\"ColumnDataSource\"},\"glyph\":{\"id\":\"c57262b3-e31f-4dd6-adf4-81966eb85e2e\",\"type\":\"Circle\"},\"hover_glyph\":null,\"muted_glyph\":null,\"nonselection_glyph\":{\"id\":\"d6c46457-b420-4f9f-b062-06c82bec5f03\",\"type\":\"Circle\"},\"selection_glyph\":null,\"view\":{\"id\":\"99a4c2d9-2aa1-43cf-99b9-a8e2eae83b66\",\"type\":\"CDSView\"}},\"id\":\"05346265-1e5d-4238-a627-69768d942fc8\",\"type\":\"GlyphRenderer\"},{\"attributes\":{\"label\":{\"value\":\"1\"},\"renderers\":[{\"id\":\"7279c530-76a9-4004-92ed-05264990fc28\",\"type\":\"GlyphRenderer\"}]},\"id\":\"b3a6050e-19a3-461d-888c-a55b418e5192\",\"type\":\"LegendItem\"},{\"attributes\":{\"axis_label\":\"Year of Expiration\",\"formatter\":{\"id\":\"34858b12-d498-4784-8e08-cc78ca28a3e3\",\"type\":\"BasicTickFormatter\"},\"plot\":{\"id\":\"3872a34e-e738-4a99-98b2-603a6f6d3734\",\"subtype\":\"Figure\",\"type\":\"Plot\"},\"ticker\":{\"id\":\"2953bf73-429c-41cf-a30b-35061cd686c4\",\"type\":\"BasicTicker\"}},\"id\":\"fdc7fcf0-129e-40f6-9b07-6a4f53a6d50d\",\"type\":\"LinearAxis\"},{\"attributes\":{\"active_drag\":\"auto\",\"active_inspect\":\"auto\",\"active_scroll\":\"auto\",\"active_tap\":\"auto\",\"tools\":[{\"id\":\"b057b9ef-d083-4eb2-a3c9-e8f7f6fa8182\",\"type\":\"PanTool\"},{\"id\":\"8f46f48c-f915-4aad-a8b7-d28fbbc270a3\",\"type\":\"WheelZoomTool\"},{\"id\":\"e46ea1cc-3b57-4cd1-a33a-54ecdece44ea\",\"type\":\"BoxZoomTool\"},{\"id\":\"598e0139-e1b7-4315-97d4-e931d9f2bb99\",\"type\":\"SaveTool\"},{\"id\":\"42e5b049-1c0c-4ab7-bd29-fc3272e5e2b5\",\"type\":\"ResetTool\"},{\"id\":\"f92a38e7-2a6b-4557-8904-d9899ed99344\",\"type\":\"HelpTool\"},{\"id\":\"5d900c63-8cd2-4e59-ab0e-fb673be19be3\",\"type\":\"HoverTool\"}]},\"id\":\"650d78fa-9a12-4760-9227-90ca8b689619\",\"type\":\"Toolbar\"},{\"attributes\":{},\"id\":\"b1672ef2-88a0-4dac-9d0d-7b16fba568d0\",\"type\":\"LinearScale\"},{\"attributes\":{\"data_source\":{\"id\":\"bfaddf08-f9e6-4bb9-bdb8-ab4f123238ed\",\"type\":\"ColumnDataSource\"},\"glyph\":{\"id\":\"b4775d1a-d4d6-41f4-b0e2-01f9c87d2d89\",\"type\":\"Circle\"},\"hover_glyph\":null,\"muted_glyph\":null,\"nonselection_glyph\":{\"id\":\"88f54e81-7842-48f9-ab4b-c76b544264fc\",\"type\":\"Circle\"},\"selection_glyph\":null,\"view\":{\"id\":\"43ff06ae-6424-4fce-9221-66d638222eba\",\"type\":\"CDSView\"}},\"id\":\"87449926-d776-426e-b121-1e27eb71e5ef\",\"type\":\"GlyphRenderer\"},{\"attributes\":{},\"id\":\"f92a38e7-2a6b-4557-8904-d9899ed99344\",\"type\":\"HelpTool\"},{\"attributes\":{\"data_source\":{\"id\":\"00b598dd-5817-4a6a-acb9-fb2fa8827970\",\"type\":\"ColumnDataSource\"},\"glyph\":{\"id\":\"f900cdac-f8c3-4be5-8afc-c8788e893049\",\"type\":\"Circle\"},\"hover_glyph\":null,\"muted_glyph\":null,\"nonselection_glyph\":{\"id\":\"b9feb2db-42c0-42ff-8631-7ea28f4cec03\",\"type\":\"Circle\"},\"selection_glyph\":null,\"view\":{\"id\":\"659b9a9d-9cbf-4438-ae5e-1cc02fd5e91b\",\"type\":\"CDSView\"}},\"id\":\"277c538f-adf9-49fa-aa31-b62db8f04de0\",\"type\":\"GlyphRenderer\"},{\"attributes\":{\"source\":{\"id\":\"00b598dd-5817-4a6a-acb9-fb2fa8827970\",\"type\":\"ColumnDataSource\"}},\"id\":\"659b9a9d-9cbf-4438-ae5e-1cc02fd5e91b\",\"type\":\"CDSView\"},{\"attributes\":{\"callback\":null,\"column_names\":[\"x\",\"y\"],\"data\":{\"x\":[1986,1986,1986,1987,1987,1988,1988,1989,1989,1989,1989,1990,1990,1990,1990,1990,1990,1990,1990,1990,1990,1991,1991,1991,1992,1992,1992,1993],\"y\":[2018,2018,2018,2018,2019,2020,2018,2018,2017,2018,2018,2023,2018,2019,2019,2019,2019,2021,2019,2019,2020,2020,2020,2021,2021,2021,2021,2017]}},\"id\":\"08b7533a-c878-4806-b12f-4d94c834e568\",\"type\":\"ColumnDataSource\"},{\"attributes\":{},\"id\":\"42e5b049-1c0c-4ab7-bd29-fc3272e5e2b5\",\"type\":\"ResetTool\"},{\"attributes\":{\"callback\":null,\"column_names\":[\"x\",\"y\"],\"data\":{\"x\":[1990,1991,1993,1993,1994,1994,1995,1995,1995],\"y\":[2024,2025,2022,2022,2023,2025,2021,2024,2024]}},\"id\":\"00b598dd-5817-4a6a-acb9-fb2fa8827970\",\"type\":\"ColumnDataSource\"},{\"attributes\":{},\"id\":\"47a89026-044c-4b15-b474-58eaeb537cac\",\"type\":\"BasicTicker\"},{\"attributes\":{\"fill_alpha\":{\"value\":0.1},\"fill_color\":{\"value\":\"#1f77b4\"},\"line_alpha\":{\"value\":0.1},\"line_color\":{\"value\":\"#1f77b4\"},\"size\":{\"units\":\"screen\",\"value\":8},\"x\":{\"field\":\"x\"},\"y\":{\"field\":\"y\"}},\"id\":\"88f54e81-7842-48f9-ab4b-c76b544264fc\",\"type\":\"Circle\"},{\"attributes\":{\"fill_alpha\":{\"value\":0.5},\"fill_color\":{\"value\":\"#ff7f0e\"},\"line_color\":{\"value\":\"#ff7f0e\"},\"size\":{\"units\":\"screen\",\"value\":8},\"x\":{\"field\":\"x\"},\"y\":{\"field\":\"y\"}},\"id\":\"769b96f7-b466-4007-8f0f-8799d1896d92\",\"type\":\"Circle\"},{\"attributes\":{\"bottom_units\":\"screen\",\"fill_alpha\":{\"value\":0.5},\"fill_color\":{\"value\":\"lightgrey\"},\"left_units\":\"screen\",\"level\":\"overlay\",\"line_alpha\":{\"value\":1.0},\"line_color\":{\"value\":\"black\"},\"line_dash\":[4,4],\"line_width\":{\"value\":2},\"plot\":null,\"render_mode\":\"css\",\"right_units\":\"screen\",\"top_units\":\"screen\"},\"id\":\"70e2f670-14c3-4582-96d1-f4b7ee13d36e\",\"type\":\"BoxAnnotation\"},{\"attributes\":{},\"id\":\"b057b9ef-d083-4eb2-a3c9-e8f7f6fa8182\",\"type\":\"PanTool\"},{\"attributes\":{\"label\":{\"value\":\"3\"},\"renderers\":[{\"id\":\"05346265-1e5d-4238-a627-69768d942fc8\",\"type\":\"GlyphRenderer\"}]},\"id\":\"4756595c-a616-4cf2-85a1-f5eb980e73ee\",\"type\":\"LegendItem\"}],\"root_ids\":[\"3872a34e-e738-4a99-98b2-603a6f6d3734\"]},\"title\":\"Bokeh Application\",\"version\":\"0.12.13\"}}';\n",
       "          var render_items = [{\"docid\":\"9d1c1263-7937-43bf-9aa6-1c03347a4390\",\"elementid\":\"fad83ebf-e080-402d-b55d-60ddc13af4c2\",\"modelid\":\"3872a34e-e738-4a99-98b2-603a6f6d3734\"}];\n",
       "          root.Bokeh.embed.embed_items(docs_json, render_items);\n",
       "        \n",
       "          }\n",
       "          if (root.Bokeh !== undefined) {\n",
       "            embed_document(root);\n",
       "          } else {\n",
       "            var attempts = 0;\n",
       "            var timer = setInterval(function(root) {\n",
       "              if (root.Bokeh !== undefined) {\n",
       "                embed_document(root);\n",
       "                clearInterval(timer);\n",
       "              }\n",
       "              attempts++;\n",
       "              if (attempts > 100) {\n",
       "                console.log(\"Bokeh: ERROR: Unable to run BokehJS code because BokehJS library is missing\")\n",
       "                clearInterval(timer);\n",
       "              }\n",
       "            }, 10, root)\n",
       "          }\n",
       "        })(window);\n",
       "      });\n",
       "    };\n",
       "    if (document.readyState != \"loading\") fn();\n",
       "    else document.addEventListener(\"DOMContentLoaded\", fn);\n",
       "  })();\n",
       "<\\/script>`\n",
       "                                var chartscript = el.childNodes[1]\n",
       "                                var s = document.createElement(\"script\")\n",
       "                                s.innerHTML = chartscript.innerHTML\n",
       "                                d.parentNode.insertBefore(s, d)\n",
       "                            }\n",
       "                        }\n",
       "                    }\n",
       "                    if (!window.Bokeh && !window.autoload){\n",
       "                        window.autoload=true;\n",
       "                        \n",
       "(function(root) {\n",
       "  function now() {\n",
       "    return new Date();\n",
       "  }\n",
       "\n",
       "  var force = 1;\n",
       "\n",
       "  if (typeof (root._bokeh_onload_callbacks) === \"undefined\" || force === true) {\n",
       "    root._bokeh_onload_callbacks = [];\n",
       "    root._bokeh_is_loading = undefined;\n",
       "  }\n",
       "\n",
       "  \n",
       "\n",
       "  \n",
       "  if (typeof (root._bokeh_timeout) === \"undefined\" || force === true) {\n",
       "    root._bokeh_timeout = Date.now() + 5000;\n",
       "    root._bokeh_failed_load = false;\n",
       "  }\n",
       "\n",
       "  var NB_LOAD_WARNING = {'data': {'text/html':\n",
       "     \"<div style='background-color: #fdd'>\\n\"+\n",
       "     \"<p>\\n\"+\n",
       "     \"BokehJS does not appear to have successfully loaded. If loading BokehJS from CDN, this \\n\"+\n",
       "     \"may be due to a slow or bad network connection. Possible fixes:\\n\"+\n",
       "     \"</p>\\n\"+\n",
       "     \"<ul>\\n\"+\n",
       "     \"<li>re-rerun `output_notebook()` to attempt to load from CDN again, or</li>\\n\"+\n",
       "     \"<li>use INLINE resources instead, as so:</li>\\n\"+\n",
       "     \"</ul>\\n\"+\n",
       "     \"<code>\\n\"+\n",
       "     \"from bokeh.resources import INLINE\\n\"+\n",
       "     \"output_notebook(resources=INLINE)\\n\"+\n",
       "     \"</code>\\n\"+\n",
       "     \"</div>\"}};\n",
       "\n",
       "  function display_loaded() {\n",
       "    var el = document.getElementById(\"\");\n",
       "    if (el != null) {\n",
       "      el.textContent = \"BokehJS is loading...\";\n",
       "    }\n",
       "    if (root.Bokeh !== undefined) {\n",
       "      if (el != null) {\n",
       "        el.textContent = \"BokehJS \" + root.Bokeh.version + \" successfully loaded.\";\n",
       "      }\n",
       "    } else if (Date.now() < root._bokeh_timeout) {\n",
       "      setTimeout(display_loaded, 100)\n",
       "    }\n",
       "  }\n",
       "\n",
       "\n",
       "  function run_callbacks() {\n",
       "    try {\n",
       "      root._bokeh_onload_callbacks.forEach(function(callback) { callback() });\n",
       "    }\n",
       "    finally {\n",
       "      delete root._bokeh_onload_callbacks\n",
       "    }\n",
       "    console.info(\"Bokeh: all callbacks have finished\");\n",
       "  }\n",
       "\n",
       "  function load_libs(js_urls, callback) {\n",
       "    root._bokeh_onload_callbacks.push(callback);\n",
       "    if (root._bokeh_is_loading > 0) {\n",
       "      console.log(\"Bokeh: BokehJS is being loaded, scheduling callback at\", now());\n",
       "      return null;\n",
       "    }\n",
       "    if (js_urls == null || js_urls.length === 0) {\n",
       "      run_callbacks();\n",
       "      return null;\n",
       "    }\n",
       "    console.log(\"Bokeh: BokehJS not loaded, scheduling load and callback at\", now());\n",
       "    root._bokeh_is_loading = js_urls.length;\n",
       "    for (var i = 0; i < js_urls.length; i++) {\n",
       "      var url = js_urls[i];\n",
       "      var s = document.createElement('script');\n",
       "      s.src = url;\n",
       "      s.async = false;\n",
       "      s.onreadystatechange = s.onload = function() {\n",
       "        root._bokeh_is_loading--;\n",
       "        if (root._bokeh_is_loading === 0) {\n",
       "          console.log(\"Bokeh: all BokehJS libraries loaded\");\n",
       "          run_callbacks()\n",
       "        }\n",
       "      };\n",
       "      s.onerror = function() {\n",
       "        console.warn(\"failed to load library \" + url);\n",
       "      };\n",
       "      console.log(\"Bokeh: injecting script tag for BokehJS library: \", url);\n",
       "      document.getElementsByTagName(\"head\")[0].appendChild(s);\n",
       "    }\n",
       "  };\n",
       "\n",
       "  var js_urls = [\"https://cdn.pydata.org/bokeh/release/bokeh-0.12.13.min.js\", \"https://cdn.pydata.org/bokeh/release/bokeh-widgets-0.12.13.min.js\", \"https://cdn.pydata.org/bokeh/release/bokeh-tables-0.12.13.min.js\", \"https://cdn.pydata.org/bokeh/release/bokeh-gl-0.12.13.min.js\"];\n",
       "\n",
       "  var inline_js = [\n",
       "    function(Bokeh) {\n",
       "      Bokeh.set_log_level(\"info\");\n",
       "    },\n",
       "    function(Bokeh) {\n",
       "      console.log(\"Bokeh: injecting CSS: https://cdn.pydata.org/bokeh/release/bokeh-0.12.13.min.css\");\n",
       "      Bokeh.embed.inject_css(\"https://cdn.pydata.org/bokeh/release/bokeh-0.12.13.min.css\");\n",
       "      console.log(\"Bokeh: injecting CSS: https://cdn.pydata.org/bokeh/release/bokeh-widgets-0.12.13.min.css\");\n",
       "      Bokeh.embed.inject_css(\"https://cdn.pydata.org/bokeh/release/bokeh-widgets-0.12.13.min.css\");\n",
       "      console.log(\"Bokeh: injecting CSS: https://cdn.pydata.org/bokeh/release/bokeh-tables-0.12.13.min.css\");\n",
       "      Bokeh.embed.inject_css(\"https://cdn.pydata.org/bokeh/release/bokeh-tables-0.12.13.min.css\");\n",
       "    }\n",
       "  ];\n",
       "\n",
       "  function run_inline_js() {\n",
       "    \n",
       "    if ((root.Bokeh !== undefined) || (force === true)) {\n",
       "      for (var i = 0; i < inline_js.length; i++) {\n",
       "        inline_js[i].call(root, root.Bokeh);\n",
       "      }} else if (Date.now() < root._bokeh_timeout) {\n",
       "      setTimeout(run_inline_js, 100);\n",
       "    } else if (!root._bokeh_failed_load) {\n",
       "      console.log(\"Bokeh: BokehJS failed to load within specified timeout.\");\n",
       "      root._bokeh_failed_load = true;\n",
       "    } else if (force !== true) {\n",
       "      var cell = $(document.getElementById(\"\")).parents('.cell').data().cell;\n",
       "      cell.output_area.append_execute_result(NB_LOAD_WARNING)\n",
       "    }\n",
       "\n",
       "  }\n",
       "\n",
       "  if (root._bokeh_is_loading === 0) {\n",
       "    console.log(\"Bokeh: BokehJS loaded, going straight to plotting\");\n",
       "    run_inline_js();\n",
       "  } else {\n",
       "    load_libs(js_urls, function() {\n",
       "      console.log(\"Bokeh: BokehJS plotting callback run at\", now());\n",
       "      run_inline_js();\n",
       "    });\n",
       "  }\n",
       "}(window));\n",
       "                    }\n",
       "                    setChartScript()\n",
       "                    </script>"
      ],
      "text/plain": [
       "<IPython.core.display.HTML object>"
      ]
     },
     "metadata": {},
     "output_type": "display_data"
    }
   ],
   "source": [
    "display(prediction)"
   ]
  },
  {
   "cell_type": "markdown",
   "metadata": {},
   "source": [
    "![cluster](img/img1.png)"
   ]
  },
  {
   "cell_type": "markdown",
   "metadata": {},
   "source": [
    "![cluster](img/img2.png)"
   ]
  },
  {
   "cell_type": "markdown",
   "metadata": {},
   "source": [
    "# Cluster 2"
   ]
  },
  {
   "cell_type": "code",
   "execution_count": 19,
   "metadata": {},
   "outputs": [],
   "source": [
    "#Cluster jumlah License CLass yang expired diatas tahun 2018 yang berisikan seluruhnya laki-laki\n",
    "query2 = spark.sql(\"SELECT `License Class`, COUNT(`License Class`) AS Jumlah\\\n",
    "                    FROM License \\\n",
    "                    WHERE `Year of Expiration`>2018 AND Sex='M'\\\n",
    "                    GROUP BY `License Class`\")"
   ]
  },
  {
   "cell_type": "code",
   "execution_count": 20,
   "metadata": {},
   "outputs": [
    {
     "name": "stdout",
     "output_type": "stream",
     "text": [
      "+----------------+------+\n",
      "|   License Class|Jumlah|\n",
      "+----------------+------+\n",
      "|M WITH DJ PERMIT|     2|\n",
      "| E WITH A PERMIT|   654|\n",
      "|AM WITH A PERMIT|    42|\n",
      "|AM WITH M PERMIT|     1|\n",
      "|              AM| 49148|\n",
      "| A WITH M PERMIT|  1079|\n",
      "| B WITH B PERMIT|   364|\n",
      "|N WITH MJ PERMIT|     4|\n",
      "| M WITH D PERMIT|   164|\n",
      "| D WITH M PERMIT| 15111|\n",
      "|        E PERMIT|   224|\n",
      "|               E|439776|\n",
      "| N WITH N PERMIT|     4|\n",
      "|DM WITH D PERMIT|     1|\n",
      "|EM WITH B PERMIT|    49|\n",
      "|               B|141839|\n",
      "| N WITH M PERMIT|   339|\n",
      "| D WITH A PERMIT|  1743|\n",
      "|DM WITH N PERMIT|     3|\n",
      "|CM WITH A PERMIT|    13|\n",
      "+----------------+------+\n",
      "only showing top 20 rows\n",
      "\n"
     ]
    }
   ],
   "source": [
    "query2.show()"
   ]
  },
  {
   "cell_type": "markdown",
   "metadata": {},
   "source": [
    "#### Vector Assembler"
   ]
  },
  {
   "cell_type": "code",
   "execution_count": 21,
   "metadata": {},
   "outputs": [
    {
     "name": "stdout",
     "output_type": "stream",
     "text": [
      "+----------------+------+----------+\n",
      "|   License Class|Jumlah|  features|\n",
      "+----------------+------+----------+\n",
      "|M WITH DJ PERMIT|     2|     [2.0]|\n",
      "| E WITH A PERMIT|   654|   [654.0]|\n",
      "|AM WITH A PERMIT|    42|    [42.0]|\n",
      "|AM WITH M PERMIT|     1|     [1.0]|\n",
      "|              AM| 49148| [49148.0]|\n",
      "| A WITH M PERMIT|  1079|  [1079.0]|\n",
      "| B WITH B PERMIT|   364|   [364.0]|\n",
      "|N WITH MJ PERMIT|     4|     [4.0]|\n",
      "| M WITH D PERMIT|   164|   [164.0]|\n",
      "| D WITH M PERMIT| 15111| [15111.0]|\n",
      "|        E PERMIT|   224|   [224.0]|\n",
      "|               E|439776|[439776.0]|\n",
      "| N WITH N PERMIT|     4|     [4.0]|\n",
      "|DM WITH D PERMIT|     1|     [1.0]|\n",
      "|EM WITH B PERMIT|    49|    [49.0]|\n",
      "|               B|141839|[141839.0]|\n",
      "| N WITH M PERMIT|   339|   [339.0]|\n",
      "| D WITH A PERMIT|  1743|  [1743.0]|\n",
      "|DM WITH N PERMIT|     3|     [3.0]|\n",
      "|CM WITH A PERMIT|    13|    [13.0]|\n",
      "+----------------+------+----------+\n",
      "only showing top 20 rows\n",
      "\n"
     ]
    }
   ],
   "source": [
    "from pyspark.ml.feature import VectorAssembler\n",
    "\n",
    "\n",
    "assembler = VectorAssembler(\n",
    "    inputCols=[\"Jumlah\"],\n",
    "    outputCol='features')\n",
    "\n",
    "query2 = assembler.transform(query2)\n",
    "query2.show()"
   ]
  },
  {
   "cell_type": "markdown",
   "metadata": {},
   "source": [
    "#### kMeans"
   ]
  },
  {
   "cell_type": "code",
   "execution_count": 22,
   "metadata": {},
   "outputs": [],
   "source": [
    "from pyspark.ml.clustering import KMeans\n",
    "\n",
    "kmeans = KMeans().setK(5).setSeed(1)\n",
    "model = kmeans.fit(query2)"
   ]
  },
  {
   "cell_type": "markdown",
   "metadata": {},
   "source": [
    "#### Prediction"
   ]
  },
  {
   "cell_type": "code",
   "execution_count": 23,
   "metadata": {},
   "outputs": [
    {
     "name": "stdout",
     "output_type": "stream",
     "text": [
      "+----------------+------+----------+----------+\n",
      "|   License Class|Jumlah|  features|prediction|\n",
      "+----------------+------+----------+----------+\n",
      "|M WITH DJ PERMIT|     2|     [2.0]|         0|\n",
      "| E WITH A PERMIT|   654|   [654.0]|         0|\n",
      "|AM WITH A PERMIT|    42|    [42.0]|         0|\n",
      "|AM WITH M PERMIT|     1|     [1.0]|         0|\n",
      "|              AM| 49148| [49148.0]|         0|\n",
      "| A WITH M PERMIT|  1079|  [1079.0]|         0|\n",
      "| B WITH B PERMIT|   364|   [364.0]|         0|\n",
      "|N WITH MJ PERMIT|     4|     [4.0]|         0|\n",
      "| M WITH D PERMIT|   164|   [164.0]|         0|\n",
      "| D WITH M PERMIT| 15111| [15111.0]|         0|\n",
      "|        E PERMIT|   224|   [224.0]|         0|\n",
      "|               E|439776|[439776.0]|         4|\n",
      "| N WITH N PERMIT|     4|     [4.0]|         0|\n",
      "|DM WITH D PERMIT|     1|     [1.0]|         0|\n",
      "|EM WITH B PERMIT|    49|    [49.0]|         0|\n",
      "|               B|141839|[141839.0]|         3|\n",
      "| N WITH M PERMIT|   339|   [339.0]|         0|\n",
      "| D WITH A PERMIT|  1743|  [1743.0]|         0|\n",
      "|DM WITH N PERMIT|     3|     [3.0]|         0|\n",
      "|CM WITH A PERMIT|    13|    [13.0]|         0|\n",
      "+----------------+------+----------+----------+\n",
      "only showing top 20 rows\n",
      "\n"
     ]
    }
   ],
   "source": [
    "predictions = model.transform(query2)\n",
    "predictions.show()"
   ]
  },
  {
   "cell_type": "markdown",
   "metadata": {},
   "source": [
    "#### Evaluate"
   ]
  },
  {
   "cell_type": "code",
   "execution_count": 24,
   "metadata": {},
   "outputs": [
    {
     "name": "stdout",
     "output_type": "stream",
     "text": [
      "Silhouette with squared euclidean distance = 0.9514091715557769\n"
     ]
    }
   ],
   "source": [
    "from pyspark.ml.evaluation import ClusteringEvaluator\n",
    "\n",
    "evaluator = ClusteringEvaluator()\n",
    "silhouette = evaluator.evaluate(predictions)\n",
    "print(\"Silhouette with squared euclidean distance = \" + str(silhouette))"
   ]
  },
  {
   "cell_type": "markdown",
   "metadata": {},
   "source": [
    "#### Cluster Center"
   ]
  },
  {
   "cell_type": "code",
   "execution_count": 25,
   "metadata": {},
   "outputs": [
    {
     "name": "stdout",
     "output_type": "stream",
     "text": [
      "Cluster Centers: \n",
      "[3750.72580645]\n",
      "[3732935.]\n",
      "[768974.]\n",
      "[134915.]\n",
      "[414304.5]\n"
     ]
    }
   ],
   "source": [
    "centers = model.clusterCenters()\n",
    "print(\"Cluster Centers: \")\n",
    "for center in centers:\n",
    "    print(center)"
   ]
  },
  {
   "cell_type": "markdown",
   "metadata": {},
   "source": [
    "#### Vizualization"
   ]
  },
  {
   "cell_type": "code",
   "execution_count": 26,
   "metadata": {},
   "outputs": [],
   "source": [
    "import pixiedust"
   ]
  },
  {
   "cell_type": "code",
   "execution_count": null,
   "metadata": {
    "pixiedust": {
     "displayParams": {
      "aggregation": "COUNT",
      "handlerId": "barChart",
      "keyFields": "prediction",
      "valueFields": "Jumlah"
     }
    }
   },
   "outputs": [
    {
     "data": {
      "text/html": [
       "<style type=\"text/css\">.pd_warning{display:none;}</style><div class=\"pd_warning\"><em>Hey, there's something awesome here! To see it, open this notebook outside GitHub, in a viewer like Jupyter</em></div>"
      ],
      "text/plain": [
       "<IPython.core.display.HTML object>"
      ]
     },
     "metadata": {
      "pixieapp_metadata": null
     },
     "output_type": "display_data"
    }
   ],
   "source": [
    "display(predictions)"
   ]
  },
  {
   "cell_type": "markdown",
   "metadata": {},
   "source": [
    "![cluster](img/img3.png)"
   ]
  },
  {
   "cell_type": "markdown",
   "metadata": {},
   "source": [
    "![cluster](img/img4.png)"
   ]
  },
  {
   "cell_type": "code",
   "execution_count": null,
   "metadata": {},
   "outputs": [],
   "source": []
  }
 ],
 "metadata": {
  "kernelspec": {
   "display_name": "Python 3",
   "language": "python",
   "name": "python3"
  },
  "language_info": {
   "codemirror_mode": {
    "name": "ipython",
    "version": 3
   },
   "file_extension": ".py",
   "mimetype": "text/x-python",
   "name": "python",
   "nbconvert_exporter": "python",
   "pygments_lexer": "ipython3",
   "version": "3.6.4"
  }
 },
 "nbformat": 4,
 "nbformat_minor": 2
}
